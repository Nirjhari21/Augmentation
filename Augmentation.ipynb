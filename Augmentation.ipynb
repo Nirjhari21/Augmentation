{
  "nbformat": 4,
  "nbformat_minor": 0,
  "metadata": {
    "colab": {
      "name": "Augmentation.ipynb",
      "provenance": []
    },
    "kernelspec": {
      "name": "python3",
      "display_name": "Python 3"
    }
  },
  "cells": [
    {
      "cell_type": "code",
      "metadata": {
        "id": "6FgujS1h9-0C"
      },
      "source": [
        "import random\n",
        "from scipy import ndarray\n",
        "import skimage as sk\n",
        "from skimage import transform\n",
        "from skimage import util\n",
        "from skimage.filters import gaussian\n",
        "\n",
        "def random_rotation(image_array: ndarray):\n",
        "    # pick a random degree of rotation between 25% on the left and 25% on the right\n",
        "    random_degree = random.uniform(-25, 25)\n",
        "    return sk.transform.rotate(image_array, random_degree)\n",
        "\n",
        "def random_noise(image_array: ndarray):\n",
        "    # add random noise to the image\n",
        "    return sk.util.random_noise(image_array)\n",
        "\n",
        "def horizontal_flip(image_array: ndarray):\n",
        "    # horizontal flip doesn't need skimage, it's easy as flipping the image array of pixels !\n",
        "    return image_array[:, ::-1]\n",
        "\n",
        "def blur(image_array: ndarray):\n",
        "    #blur the image\n",
        "    return gaussian(image_array,sigma=1,multichannel=True)"
      ],
      "execution_count": null,
      "outputs": []
    },
    {
      "cell_type": "code",
      "metadata": {
        "colab": {
          "base_uri": "https://localhost:8080/"
        },
        "id": "kVS3roQHDTpV",
        "outputId": "dfb0a3a1-5a3e-486c-cca8-031eba2d7db7"
      },
      "source": [
        "from google.colab import drive\n",
        "drive.mount('/content/drive')"
      ],
      "execution_count": null,
      "outputs": [
        {
          "output_type": "stream",
          "text": [
            "Drive already mounted at /content/drive; to attempt to forcibly remount, call drive.mount(\"/content/drive\", force_remount=True).\n"
          ],
          "name": "stdout"
        }
      ]
    },
    {
      "cell_type": "code",
      "metadata": {
        "id": "3tM7jUClDpZ5"
      },
      "source": [
        "import random\n",
        "import os\n",
        "import numpy as np\n",
        "import imageio\n",
        "from skimage import img_as_ubyte\n",
        "# dictionary of the transformations functions we defined earlier\n",
        "available_transformations = {\n",
        "    #'rotate': random_rotation,\n",
        "    #'noise': random_noise,\n",
        "    #'horizontal_flip': horizontal_flip,\n",
        "    'blur': blur\n",
        "}\n",
        "\n",
        "# our folder path containing some images\n",
        "folder_path = '/content/drive/MyDrive/Weed Detection/Dataset/Raw Dataset/Dataset2/Crop&Weed/Brinjals'\n",
        "# the number of file to generate\n",
        "num_files_desired = 180\n",
        "# loop on all files of the folder and build a list of files paths\n",
        "images = [os.path.join(folder_path, f) for f in os.listdir(folder_path) if os.path.isfile(os.path.join(folder_path, f))]\n",
        "folder_path = '/content/drive/MyDrive/Weed Detection/Dataset/Augmented Dataset/Augmented Crop&Weed'\n",
        "num_generated_files = 0\n",
        "while num_generated_files <= num_files_desired:\n",
        "    # random image from the folder\n",
        "    image_path = random.choice(images)\n",
        "    # read image as an two dimensional array of pixels\n",
        "    image_to_transform = sk.io.imread(image_path)\n",
        "    # random num of transformation to apply\n",
        "    num_transformations_to_apply = 0 #random.randint(1, len(available_transformations))\n",
        "    \n",
        "    num_transformations = 0\n",
        "    transformed_image = None\n",
        "    while num_transformations <= num_transformations_to_apply:\n",
        "        # random transformation to apply for a single image\n",
        "        key = 'blur'\n",
        "        transformed_image = available_transformations[key](image_to_transform)\n",
        "        num_transformations += 1\n",
        "\n",
        "        new_file_path = '%s/augmented_image_b%s.jpg' % (folder_path, num_generated_files)\n",
        "\n",
        "        # write image to the disk\n",
        "        io.imsave(new_file_path, img_as_ubyte(transformed_image))\n",
        "        \n",
        "    num_generated_files += 1\n"
      ],
      "execution_count": null,
      "outputs": []
    }
  ]
}